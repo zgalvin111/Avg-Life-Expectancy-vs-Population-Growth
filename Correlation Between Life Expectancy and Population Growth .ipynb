{
 "cells": [
  {
   "cell_type": "code",
   "execution_count": 258,
   "metadata": {},
   "outputs": [],
   "source": [
    "description = \"The Average Life Expectancy at Birth is from the World Health Statistics 2016 by Global health Observatory. The population growth rate is from the CIA. Below are the links for the data\"\n",
    "populationGrowthLink = \"https://www.cia.gov/library/publications/the-world-factbook/fields/2002.html\"\n",
    "globalHealthStatistics2016File = \"http://www.who.int/gho/publications/world_health_statistics/2016/Annex_B/en/\"\n",
    "\n",
    "import pandas as pd\n",
    "import matplotlib.pyplot as plt\n",
    "import numpy as np"
   ]
  },
  {
   "cell_type": "code",
   "execution_count": 231,
   "metadata": {},
   "outputs": [],
   "source": [
    "# Import Excel Files\n",
    "lifeExpecFile = pd.read_excel(\"/Users/Zach/Desktop/Data Science/Health on Population Growth/LifeExpectancyPopulationGrowth.xlsx\")\n",
    "populationGrowthFile = pd.read_excel(\"/Users/Zach/Desktop/Data Science/Health on Population Growth/PopulationGrowth.xlsx\")   "
   ]
  },
  {
   "cell_type": "code",
   "execution_count": 232,
   "metadata": {},
   "outputs": [
    {
     "name": "stdout",
     "output_type": "stream",
     "text": [
      "       Country  Life_Expectancy_at_Birth_Both_Sexes\n",
      "0  Afghanistan                                 60.5\n",
      "1      Albania                                 77.8\n",
      "2      Algeria                                 75.6\n",
      "3      Andorra                                  NaN\n",
      "4       Angola                                 52.4\n",
      "          Country  Population_Growth_Rate\n",
      "0     Afghanistan                    2.36\n",
      "1         Albania                    0.31\n",
      "2         Algeria                    1.70\n",
      "3  American Samoa                   -1.30\n",
      "4         Andorra                    0.03\n"
     ]
    }
   ],
   "source": [
    "# Checkout the files\n",
    "print(lifeExpecFile.head())\n",
    "print(populationGrowthFile.head())"
   ]
  },
  {
   "cell_type": "code",
   "execution_count": 233,
   "metadata": {},
   "outputs": [],
   "source": [
    "# Now that both files are imported, we need to merge the two files together\n",
    "data = pd.merge(lifeExpecFile, populationGrowthFile, left_on='Country', right_on='Country')"
   ]
  },
  {
   "cell_type": "code",
   "execution_count": 234,
   "metadata": {},
   "outputs": [],
   "source": [
    "# Convert data from strings to floats\n",
    "data['Life_Expectancy_at_Birth_Both_Sexes'] = pd.to_numeric(data.Life_Expectancy_at_Birth_Both_Sexes, errors='coerce')"
   ]
  },
  {
   "cell_type": "code",
   "execution_count": 284,
   "metadata": {},
   "outputs": [
    {
     "data": {
      "text/plain": [
       "array([[60.5],\n",
       "       [77.8],\n",
       "       [75.6],\n",
       "       [ nan],\n",
       "       [52.4],\n",
       "       [76.4],\n",
       "       [76.3],\n",
       "       [74.8],\n",
       "       [82.8],\n",
       "       [81.5],\n",
       "       [72.7],\n",
       "       [76.9],\n",
       "       [71.8],\n",
       "       [75.5],\n",
       "       [72.3],\n",
       "       [81.1],\n",
       "       [70.1],\n",
       "       [60. ],\n",
       "       [69.8],\n",
       "       [77.4],\n",
       "       [65.7],\n",
       "       [75. ],\n",
       "       [74.5],\n",
       "       [59.9],\n",
       "       [59.6],\n",
       "       [73.3],\n",
       "       [68.7],\n",
       "       [57.3],\n",
       "       [82.2],\n",
       "       [52.5],\n",
       "       [53.1],\n",
       "       [80.5],\n",
       "       [76.1],\n",
       "       [74.8],\n",
       "       [63.5],\n",
       "       [ nan],\n",
       "       [79.6],\n",
       "       [78. ],\n",
       "       [79.1],\n",
       "       [80.5],\n",
       "       [80.6],\n",
       "       [63.5],\n",
       "       [ nan],\n",
       "       [73.9],\n",
       "       [76.2],\n",
       "       [70.9],\n",
       "       [73.5],\n",
       "       [58.2],\n",
       "       [64.7],\n",
       "       [77.6],\n",
       "       [64.8],\n",
       "       [69.9],\n",
       "       [81.1],\n",
       "       [82.4],\n",
       "       [66. ],\n",
       "       [74.4],\n",
       "       [81. ],\n",
       "       [62.4],\n",
       "       [81. ],\n",
       "       [73.6],\n",
       "       [71.9],\n",
       "       [59. ],\n",
       "       [58.9],\n",
       "       [66.2],\n",
       "       [63.5],\n",
       "       [74.6],\n",
       "       [75.9],\n",
       "       [82.7],\n",
       "       [68.3],\n",
       "       [69.1],\n",
       "       [68.9],\n",
       "       [81.4],\n",
       "       [82.5],\n",
       "       [82.7],\n",
       "       [76.2],\n",
       "       [83.7],\n",
       "       [74.1],\n",
       "       [70.2],\n",
       "       [63.4],\n",
       "       [66.3],\n",
       "       [74.7],\n",
       "       [71.1],\n",
       "       [74.6],\n",
       "       [74.9],\n",
       "       [53.7],\n",
       "       [61.4],\n",
       "       [72.7],\n",
       "       [73.6],\n",
       "       [82. ],\n",
       "       [65.5],\n",
       "       [58.3],\n",
       "       [75. ],\n",
       "       [78.5],\n",
       "       [58.2],\n",
       "       [81.7],\n",
       "       [ nan],\n",
       "       [63.1],\n",
       "       [74.6],\n",
       "       [76.7],\n",
       "       [ nan],\n",
       "       [68.8],\n",
       "       [76.1],\n",
       "       [74.3],\n",
       "       [57.6],\n",
       "       [65.8],\n",
       "       [ nan],\n",
       "       [69.2],\n",
       "       [81.9],\n",
       "       [81.6],\n",
       "       [74.8],\n",
       "       [61.8],\n",
       "       [54.5],\n",
       "       [ nan],\n",
       "       [81.8],\n",
       "       [76.6],\n",
       "       [66.4],\n",
       "       [ nan],\n",
       "       [77.8],\n",
       "       [62.9],\n",
       "       [74. ],\n",
       "       [75.5],\n",
       "       [68.5],\n",
       "       [77.5],\n",
       "       [81.1],\n",
       "       [78.2],\n",
       "       [75. ],\n",
       "       [66.1],\n",
       "       [ nan],\n",
       "       [75.2],\n",
       "       [73.2],\n",
       "       [74. ],\n",
       "       [ nan],\n",
       "       [67.5],\n",
       "       [74.5],\n",
       "       [66.7],\n",
       "       [75.6],\n",
       "       [73.2],\n",
       "       [50.1],\n",
       "       [83.1],\n",
       "       [76.7],\n",
       "       [80.8],\n",
       "       [69.2],\n",
       "       [55. ],\n",
       "       [62.9],\n",
       "       [57.3],\n",
       "       [82.8],\n",
       "       [74.9],\n",
       "       [64.1],\n",
       "       [71.6],\n",
       "       [58.9],\n",
       "       [82.4],\n",
       "       [83.4],\n",
       "       [69.7],\n",
       "       [74.9],\n",
       "       [68.3],\n",
       "       [59.9],\n",
       "       [73.5],\n",
       "       [71.2],\n",
       "       [75.3],\n",
       "       [75.8],\n",
       "       [66.3],\n",
       "       [ nan],\n",
       "       [62.3],\n",
       "       [71.3],\n",
       "       [77.1],\n",
       "       [81.2],\n",
       "       [77. ],\n",
       "       [69.4],\n",
       "       [72. ],\n",
       "       [65.7],\n",
       "       [61.8],\n",
       "       [60.7]])"
      ]
     },
     "execution_count": 284,
     "metadata": {},
     "output_type": "execute_result"
    }
   ],
   "source": [
    "# Define X and y\n",
    "X = data.iloc[:,1:2].values\n",
    "y = data.iloc[:,2].values\n",
    "X"
   ]
  },
  {
   "cell_type": "code",
   "execution_count": 285,
   "metadata": {},
   "outputs": [],
   "source": [
    "# Take care of missing data which in this case is in the form of 'NaN'\n",
    "from sklearn.preprocessing import Imputer\n",
    "\n",
    "imputer = Imputer(missing_values = 'NaN', strategy='most_frequent')\n",
    "imputer.fit(X[:,0:1])\n",
    "X[:, 0:1] = imputer.transform(X[:,0:1])"
   ]
  },
  {
   "cell_type": "code",
   "execution_count": 286,
   "metadata": {},
   "outputs": [
    {
     "data": {
      "text/plain": [
       "LinearRegression(copy_X=True, fit_intercept=True, n_jobs=1, normalize=False)"
      ]
     },
     "execution_count": 286,
     "metadata": {},
     "output_type": "execute_result"
    }
   ],
   "source": [
    "# Average lifespan on population growth\n",
    "from sklearn.linear_model import LinearRegression\n",
    "reg = LinearRegression()\n",
    "reg.fit(X, y)\n"
   ]
  },
  {
   "cell_type": "code",
   "execution_count": 287,
   "metadata": {},
   "outputs": [
    {
     "name": "stdout",
     "output_type": "stream",
     "text": [
      "Coefficients for populationGrowthRate = B0 + (B1)lifeExpectancy where B1 = -0.0685878149881437 and B0 = 5.979519235138825\n",
      "Thus, on average, if countries were to increase the average life expectancy by one year, then there would be a -0.0685878149881437 drop in the growth rate\n"
     ]
    }
   ],
   "source": [
    "# The coefficients\n",
    "print('Coefficients for populationGrowthRate = B0 + (B1)lifeExpectancy where B1 = ' + str(reg.coef_[0]) + ' and B0 = ' + str(reg.intercept_))\n",
    "print(\"Thus, on average, if countries were to increase the average life expectancy by one year, then there would be a \" + str(reg.coef_[0]) + \" drop in the growth rate\")\n"
   ]
  },
  {
   "cell_type": "code",
   "execution_count": 297,
   "metadata": {},
   "outputs": [
    {
     "data": {
      "image/png": "[encoded data removed]",
      "text/plain": [
       "<matplotlib.figure.Figure at 0x1a1bd38fd0>"
      ]
     },
     "metadata": {},
     "output_type": "display_data"
    }
   ],
   "source": [
    "# Graph Regression\n",
    "\n",
    "# Generate predicted values to draw line\n",
    "y_pred = reg.predict(X)\n",
    "\n",
    "plt.plot(X,y_pred, color ='blue')\n",
    "\n",
    "# Plot data points\n",
    "plt.scatter(X,y,color='black')\n",
    "plt.title(\"Average Life Expectancy vs Population Growth\")\n",
    "plt.ylabel(\"Population growth in %\")\n",
    "plt.xlabel(\"Average Life Expectancy in years\")\n",
    "\n",
    "plt.show()"
   ]
  },
  {
   "cell_type": "code",
   "execution_count": 301,
   "metadata": {},
   "outputs": [],
   "source": []
  }
 ],
 "metadata": {
  "kernelspec": {
   "display_name": "Python 3",
   "language": "python",
   "name": "python3"
  },
  "language_info": {
   "codemirror_mode": {
    "name": "ipython",
    "version": 3
   },
   "file_extension": ".py",
   "mimetype": "text/x-python",
   "name": "python",
   "nbconvert_exporter": "python",
   "pygments_lexer": "ipython3",
   "version": "3.6.4"
  }
 },
 "nbformat": 4,
 "nbformat_minor": 2
}
